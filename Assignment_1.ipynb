{
 "cells": [
  {
   "cell_type": "code",
   "execution_count": 1,
   "id": "0dcd2115",
   "metadata": {},
   "outputs": [
    {
     "name": "stdout",
     "output_type": "stream",
     "text": [
      "Hello Python\n"
     ]
    }
   ],
   "source": [
    "#Q1. Write a Python program to print \"Hello Python\"?\n",
    "print('Hello Python')"
   ]
  },
  {
   "cell_type": "code",
   "execution_count": 5,
   "id": "20134e97",
   "metadata": {},
   "outputs": [
    {
     "name": "stdout",
     "output_type": "stream",
     "text": [
      "15\n",
      "2.0\n"
     ]
    }
   ],
   "source": [
    "#Q2. Write a Python program to do arithmetical operations addition and division.?\n",
    "value1 = 10\n",
    "value2 = 5\n",
    "#Addition Operator\n",
    "result1 = value1 + value2\n",
    "print(result1)"
   ]
  },
  {
   "cell_type": "code",
   "execution_count": 6,
   "id": "dd8380d3",
   "metadata": {},
   "outputs": [
    {
     "name": "stdout",
     "output_type": "stream",
     "text": [
      "2.0\n"
     ]
    }
   ],
   "source": [
    "#Division Operator\n",
    "value1 = 10\n",
    "value2 = 5\n",
    "result2 = value1 / value2\n",
    "print(result2)"
   ]
  },
  {
   "cell_type": "code",
   "execution_count": 9,
   "id": "296cf7ac",
   "metadata": {},
   "outputs": [
    {
     "name": "stdout",
     "output_type": "stream",
     "text": [
      "Input the base : 50\n",
      "Input the height : 70\n",
      "area =  1750.0\n"
     ]
    }
   ],
   "source": [
    "#Q3. Write a Python program to find the area of a triangle?\n",
    "b = int(input(\"Input the base : \"))\n",
    "h = int(input(\"Input the height : \"))\n",
    "\n",
    "area = b*h/2\n",
    "\n",
    "print(\"area = \", area)"
   ]
  },
  {
   "cell_type": "code",
   "execution_count": 10,
   "id": "be31febc",
   "metadata": {},
   "outputs": [
    {
     "name": "stdout",
     "output_type": "stream",
     "text": [
      "Value of x: 500\n",
      "Value of y: 100\n"
     ]
    }
   ],
   "source": [
    "#Q4. Write a Python program to swap two variables?\n",
    "x = 100\n",
    "y = 500\n",
    " \n",
    "# Swapping of two variables\n",
    "# Using third variable\n",
    "temp = x\n",
    "x = y\n",
    "y = temp\n",
    " \n",
    "print(\"Value of x:\", x)\n",
    "print(\"Value of y:\", y)"
   ]
  },
  {
   "cell_type": "code",
   "execution_count": 12,
   "id": "18975a27",
   "metadata": {},
   "outputs": [
    {
     "name": "stdout",
     "output_type": "stream",
     "text": [
      "Random number ->  53454\n",
      "Random number ->  30\n"
     ]
    }
   ],
   "source": [
    "#Q5. Write a Python program to generate a random number?\n",
    "from random import randint\n",
    "\n",
    "def generateRandomNumber(start=0, end=100000):\n",
    "    print('Random number -> ',randint(start,end))\n",
    "\n",
    "# Generating random numbers without arguments    \n",
    "generateRandomNumber()\n",
    "\n",
    "# Generating random numbers with arguments    \n",
    "generateRandomNumber(0,100)"
   ]
  },
  {
   "cell_type": "code",
   "execution_count": null,
   "id": "cd2660af",
   "metadata": {},
   "outputs": [],
   "source": []
  },
  {
   "cell_type": "code",
   "execution_count": null,
   "id": "10953de5",
   "metadata": {},
   "outputs": [],
   "source": []
  },
  {
   "cell_type": "code",
   "execution_count": null,
   "id": "37cb9bb3",
   "metadata": {},
   "outputs": [],
   "source": []
  }
 ],
 "metadata": {
  "kernelspec": {
   "display_name": "Python 3 (ipykernel)",
   "language": "python",
   "name": "python3"
  },
  "language_info": {
   "codemirror_mode": {
    "name": "ipython",
    "version": 3
   },
   "file_extension": ".py",
   "mimetype": "text/x-python",
   "name": "python",
   "nbconvert_exporter": "python",
   "pygments_lexer": "ipython3",
   "version": "3.9.12"
  }
 },
 "nbformat": 4,
 "nbformat_minor": 5
}
