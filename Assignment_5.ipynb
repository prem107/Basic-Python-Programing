{
 "cells": [
  {
   "cell_type": "code",
   "execution_count": 1,
   "id": "efd67bb5",
   "metadata": {},
   "outputs": [
    {
     "name": "stdout",
     "output_type": "stream",
     "text": [
      " Please Enter the First Value a: 5\n",
      " Please Enter the Second Value b: 25\n",
      "\n",
      " Least Common Multiple of 5.0 and 25.0 = 25.0\n"
     ]
    }
   ],
   "source": [
    "#1. Write a Python Program to Find LCM?\n",
    "a = float(input(\" Please Enter the First Value a: \"))\n",
    "b = float(input(\" Please Enter the Second Value b: \"))\n",
    "\n",
    "if(a > b):\n",
    "    maximum = a\n",
    "else:\n",
    "    maximum = b\n",
    "\n",
    "while(True):\n",
    "    if(maximum % a == 0 and maximum % b == 0):\n",
    "        print(\"\\n Least Common Multiple of {0} and {1} = {2}\".format(a, b, maximum))\n",
    "        break;\n",
    "    maximum = maximum + 1"
   ]
  },
  {
   "cell_type": "code",
   "execution_count": 9,
   "id": "6c5f8089",
   "metadata": {},
   "outputs": [
    {
     "name": "stdout",
     "output_type": "stream",
     "text": [
      "Enter first number: 50\n",
      "Enter second number: 5\n",
      "The H.C.F. of 50 and 50 is 5\n"
     ]
    }
   ],
   "source": [
    "#2. Write a Python Program to Find HCF?\n",
    "a = int(input(\"Enter first number: \"))  \n",
    "b = int(input(\"Enter second number: \"))\n",
    "if a > b:\n",
    "    smaller = b\n",
    "else:\n",
    "    smaller = a\n",
    "for i in range(1,smaller + 1):\n",
    "    if((a % i == 0) and (b % i == 0)):\n",
    "        hcf = i  \n",
    "\n",
    "print(\"The H.C.F. of\", a,\"and\", a,\"is\", hcf) "
   ]
  },
  {
   "cell_type": "code",
   "execution_count": 17,
   "id": "432310be",
   "metadata": {},
   "outputs": [
    {
     "name": "stdout",
     "output_type": "stream",
     "text": [
      "Enter a Number: 344\n",
      "Binary Number : 0b101011000\n",
      "Octal Number : 0o530\n",
      "Hexadecimal Number : 0x158\n"
     ]
    }
   ],
   "source": [
    "#3. Write a Python Program to Convert Decimal to Binary, Octal and Hexadecimal?\n",
    "num = int(input('Enter a Number: '))\n",
    "print(f'Binary Number : {bin(num)}')\n",
    "print(f'Octal Number : {oct(num)}')\n",
    "print(f'Hexadecimal Number : {hex(num)}')\n"
   ]
  },
  {
   "cell_type": "code",
   "execution_count": 26,
   "id": "c1e97b08",
   "metadata": {},
   "outputs": [
    {
     "name": "stdout",
     "output_type": "stream",
     "text": [
      "Enter a Key: 8\n",
      "The ASCII value of '8' is 56\n"
     ]
    }
   ],
   "source": [
    "#4. Write a Python Program To Find ASCII value of a character?\n",
    "key = input('Enter a Key: ')\n",
    "print(\"The ASCII value of '\" + key + \"' is\", ord(key))"
   ]
  },
  {
   "cell_type": "code",
   "execution_count": 4,
   "id": "7b18d760",
   "metadata": {},
   "outputs": [
    {
     "name": "stdout",
     "output_type": "stream",
     "text": [
      "\n",
      "Please type in the math operation you would like to complete:\n",
      "+ for addition\n",
      "- for subtraction\n",
      "* for multiplication\n",
      "/ for division\n",
      "\n",
      "Please enter the first number: 40\n",
      "Please enter opration-\n",
      "Please enter the second number: 10\n",
      "40 - 10 = \n",
      "30\n"
     ]
    }
   ],
   "source": [
    "#5. Write a Python Program to Make a Simple Calculator with 4 basic mathematical operations?\n",
    "# Define our function\n",
    "def calculate():\n",
    "    print('''\n",
    "Please type in the math operation you would like to complete:\n",
    "+ for addition\n",
    "- for subtraction\n",
    "* for multiplication\n",
    "/ for division\n",
    "''')\n",
    "\n",
    "    number_1 = int(input('Please enter the first number: '))\n",
    "    operation = input('''Please enter opration''')\n",
    "\n",
    "    number_2 = int(input('Please enter the second number: '))\n",
    "\n",
    "    if operation == '+':\n",
    "        print('{} + {} = '.format(number_1, number_2))\n",
    "        print(number_1 + number_2)\n",
    "\n",
    "    elif operation == '-':\n",
    "        print('{} - {} = '.format(number_1, number_2))\n",
    "        print(number_1 - number_2)\n",
    "\n",
    "    elif operation == '*':\n",
    "        print('{} * {} = '.format(number_1, number_2))\n",
    "        print(number_1 * number_2)\n",
    "\n",
    "    elif operation == '/':\n",
    "        print('{} / {} = '.format(number_1, number_2))\n",
    "        print(number_1 / number_2)\n",
    "\n",
    "    else:\n",
    "        print('You have not typed a valid operator, please run the program again.')\n",
    "\n",
    "\n",
    "calculate()"
   ]
  },
  {
   "cell_type": "code",
   "execution_count": null,
   "id": "7e8e31ed",
   "metadata": {},
   "outputs": [],
   "source": []
  },
  {
   "cell_type": "code",
   "execution_count": null,
   "id": "58b11904",
   "metadata": {},
   "outputs": [],
   "source": []
  }
 ],
 "metadata": {
  "kernelspec": {
   "display_name": "Python 3 (ipykernel)",
   "language": "python",
   "name": "python3"
  },
  "language_info": {
   "codemirror_mode": {
    "name": "ipython",
    "version": 3
   },
   "file_extension": ".py",
   "mimetype": "text/x-python",
   "name": "python",
   "nbconvert_exporter": "python",
   "pygments_lexer": "ipython3",
   "version": "3.9.12"
  }
 },
 "nbformat": 4,
 "nbformat_minor": 5
}
