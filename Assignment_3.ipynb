{
 "cells": [
  {
   "cell_type": "code",
   "execution_count": 3,
   "id": "667fcba3",
   "metadata": {},
   "outputs": [
    {
     "name": "stdout",
     "output_type": "stream",
     "text": [
      "Enter a number: -1\n",
      "Negative number\n"
     ]
    }
   ],
   "source": [
    "#Q1. Write a Python Program to Check if a Number is Positive, Negative or Zero?\n",
    "num = float(input(\"Enter a number: \"))\n",
    "if num >= 0:\n",
    "    if num == 0:\n",
    "        print(\"Zero\")\n",
    "    else:\n",
    "        print(\"Positive number\")\n",
    "else:\n",
    "    print(\"Negative number\")"
   ]
  },
  {
   "cell_type": "code",
   "execution_count": 6,
   "id": "9078b007",
   "metadata": {},
   "outputs": [
    {
     "name": "stdout",
     "output_type": "stream",
     "text": [
      "Enter anumber:  2\n",
      "2.0 is Even\n"
     ]
    }
   ],
   "source": [
    "#Q2. Write a Python Program to Check if a Number is Odd or Even?\n",
    "num = float(input(\"Enter anumber:  \"))\n",
    "if (num % 2) == 0:\n",
    "    print(\"{0} is Even\".format(num))\n",
    "else:\n",
    "    print(\"{0} is Odd\".format(num))\n"
   ]
  },
  {
   "cell_type": "code",
   "execution_count": 11,
   "id": "3700930b",
   "metadata": {},
   "outputs": [
    {
     "name": "stdout",
     "output_type": "stream",
     "text": [
      "Enter year :  2021\n",
      "2021 is not a leap year.\n"
     ]
    }
   ],
   "source": [
    "#Q3. Write a Python Program to Check Leap Year?\n",
    "year =int(input(\"Enter year :  \"))\n",
    "if (year%4 ==0 and year%100 != 0) or (year%400 == 0):\n",
    "    print(year, \"is a leap year. \")\n",
    "else:\n",
    "    print(year, \"is not a leap year.\")"
   ]
  },
  {
   "cell_type": "code",
   "execution_count": 22,
   "id": "b0402c0d",
   "metadata": {},
   "outputs": [
    {
     "name": "stdout",
     "output_type": "stream",
     "text": [
      "Enter a number: 37\n",
      "37 is a prime number\n"
     ]
    }
   ],
   "source": [
    "#Q4. Write a Python Program to Check Prime Number?\n",
    "num = int(input(\"Enter a number: \"))\n",
    "if num > 1:\n",
    "    for i in range(2,num):\n",
    "        if (num % i) == 0:\n",
    "            print(num,\"is not a prime number\")\n",
    "            break\n",
    "    else:\n",
    "        print(num,\"is a prime number\")\n",
    "else:\n",
    "    print(num,\"is not a prime number\")"
   ]
  },
  {
   "cell_type": "code",
   "execution_count": 21,
   "id": "72347f94",
   "metadata": {},
   "outputs": [
    {
     "name": "stdout",
     "output_type": "stream",
     "text": [
      "2 is a prime number!\n",
      "3 is a prime number!\n",
      "5 is a prime number!\n",
      "7 is a prime number!\n",
      "11 is a prime number!\n",
      "13 is a prime number!\n",
      "17 is a prime number!\n",
      "19 is a prime number!\n",
      "23 is a prime number!\n",
      "29 is a prime number!\n",
      "31 is a prime number!\n",
      "37 is a prime number!\n",
      "41 is a prime number!\n",
      "43 is a prime number!\n",
      "47 is a prime number!\n",
      "53 is a prime number!\n",
      "59 is a prime number!\n",
      "61 is a prime number!\n",
      "67 is a prime number!\n",
      "71 is a prime number!\n",
      "73 is a prime number!\n",
      "79 is a prime number!\n",
      "83 is a prime number!\n",
      "89 is a prime number!\n",
      "97 is a prime number!\n",
      "101 is a prime number!\n",
      "103 is a prime number!\n",
      "107 is a prime number!\n",
      "109 is a prime number!\n",
      "113 is a prime number!\n",
      "127 is a prime number!\n",
      "131 is a prime number!\n",
      "137 is a prime number!\n",
      "139 is a prime number!\n",
      "149 is a prime number!\n",
      "151 is a prime number!\n",
      "157 is a prime number!\n",
      "163 is a prime number!\n",
      "167 is a prime number!\n",
      "173 is a prime number!\n",
      "179 is a prime number!\n",
      "181 is a prime number!\n",
      "191 is a prime number!\n",
      "193 is a prime number!\n",
      "197 is a prime number!\n",
      "199 is a prime number!\n",
      "211 is a prime number!\n",
      "223 is a prime number!\n",
      "227 is a prime number!\n",
      "229 is a prime number!\n",
      "233 is a prime number!\n",
      "239 is a prime number!\n",
      "241 is a prime number!\n",
      "251 is a prime number!\n",
      "257 is a prime number!\n",
      "263 is a prime number!\n",
      "269 is a prime number!\n",
      "271 is a prime number!\n",
      "277 is a prime number!\n",
      "281 is a prime number!\n",
      "283 is a prime number!\n",
      "293 is a prime number!\n",
      "307 is a prime number!\n",
      "311 is a prime number!\n",
      "313 is a prime number!\n",
      "317 is a prime number!\n",
      "331 is a prime number!\n",
      "337 is a prime number!\n",
      "347 is a prime number!\n",
      "349 is a prime number!\n",
      "353 is a prime number!\n",
      "359 is a prime number!\n",
      "367 is a prime number!\n",
      "373 is a prime number!\n",
      "379 is a prime number!\n",
      "383 is a prime number!\n",
      "389 is a prime number!\n",
      "397 is a prime number!\n",
      "401 is a prime number!\n",
      "409 is a prime number!\n",
      "419 is a prime number!\n",
      "421 is a prime number!\n",
      "431 is a prime number!\n",
      "433 is a prime number!\n",
      "439 is a prime number!\n",
      "443 is a prime number!\n",
      "449 is a prime number!\n",
      "457 is a prime number!\n",
      "461 is a prime number!\n",
      "463 is a prime number!\n",
      "467 is a prime number!\n",
      "479 is a prime number!\n",
      "487 is a prime number!\n",
      "491 is a prime number!\n",
      "499 is a prime number!\n",
      "503 is a prime number!\n",
      "509 is a prime number!\n",
      "521 is a prime number!\n",
      "523 is a prime number!\n",
      "541 is a prime number!\n",
      "547 is a prime number!\n",
      "557 is a prime number!\n",
      "563 is a prime number!\n",
      "569 is a prime number!\n",
      "571 is a prime number!\n",
      "577 is a prime number!\n",
      "587 is a prime number!\n",
      "593 is a prime number!\n",
      "599 is a prime number!\n",
      "601 is a prime number!\n",
      "607 is a prime number!\n",
      "613 is a prime number!\n",
      "617 is a prime number!\n",
      "619 is a prime number!\n",
      "631 is a prime number!\n",
      "641 is a prime number!\n",
      "643 is a prime number!\n",
      "647 is a prime number!\n",
      "653 is a prime number!\n",
      "659 is a prime number!\n",
      "661 is a prime number!\n",
      "673 is a prime number!\n",
      "677 is a prime number!\n",
      "683 is a prime number!\n",
      "691 is a prime number!\n",
      "701 is a prime number!\n",
      "709 is a prime number!\n",
      "719 is a prime number!\n",
      "727 is a prime number!\n",
      "733 is a prime number!\n",
      "739 is a prime number!\n",
      "743 is a prime number!\n",
      "751 is a prime number!\n",
      "757 is a prime number!\n",
      "761 is a prime number!\n",
      "769 is a prime number!\n",
      "773 is a prime number!\n",
      "787 is a prime number!\n",
      "797 is a prime number!\n",
      "809 is a prime number!\n",
      "811 is a prime number!\n",
      "821 is a prime number!\n",
      "823 is a prime number!\n",
      "827 is a prime number!\n",
      "829 is a prime number!\n",
      "839 is a prime number!\n",
      "853 is a prime number!\n",
      "857 is a prime number!\n",
      "859 is a prime number!\n",
      "863 is a prime number!\n",
      "877 is a prime number!\n",
      "881 is a prime number!\n",
      "883 is a prime number!\n",
      "887 is a prime number!\n",
      "907 is a prime number!\n",
      "911 is a prime number!\n",
      "919 is a prime number!\n",
      "929 is a prime number!\n",
      "937 is a prime number!\n",
      "941 is a prime number!\n",
      "947 is a prime number!\n",
      "953 is a prime number!\n",
      "967 is a prime number!\n",
      "971 is a prime number!\n",
      "977 is a prime number!\n",
      "983 is a prime number!\n",
      "991 is a prime number!\n",
      "997 is a prime number!\n"
     ]
    }
   ],
   "source": [
    "#Q5. Write a Python Program to Print all Prime Numbers in an Interval of 1-10000?\n",
    "for num in range(1,1001):\n",
    "    if num > 1:\n",
    "        for i in range(2,num):\n",
    "            if (num % i) == 0:\n",
    "                break\n",
    "        else:\n",
    "            print(num,\"is a prime number!\")"
   ]
  },
  {
   "cell_type": "code",
   "execution_count": null,
   "id": "c989a1bb",
   "metadata": {},
   "outputs": [],
   "source": []
  },
  {
   "cell_type": "code",
   "execution_count": null,
   "id": "b20a2323",
   "metadata": {},
   "outputs": [],
   "source": []
  },
  {
   "cell_type": "code",
   "execution_count": null,
   "id": "b631578c",
   "metadata": {},
   "outputs": [],
   "source": []
  }
 ],
 "metadata": {
  "kernelspec": {
   "display_name": "Python 3 (ipykernel)",
   "language": "python",
   "name": "python3"
  },
  "language_info": {
   "codemirror_mode": {
    "name": "ipython",
    "version": 3
   },
   "file_extension": ".py",
   "mimetype": "text/x-python",
   "name": "python",
   "nbconvert_exporter": "python",
   "pygments_lexer": "ipython3",
   "version": "3.9.12"
  }
 },
 "nbformat": 4,
 "nbformat_minor": 5
}
